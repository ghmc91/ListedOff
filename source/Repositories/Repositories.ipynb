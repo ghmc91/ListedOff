{
 "cells": [
  {
   "cell_type": "code",
   "execution_count": 2,
   "metadata": {},
   "outputs": [],
   "source": [
    "import pandas as pd"
   ]
  },
  {
   "cell_type": "code",
   "execution_count": 3,
   "metadata": {},
   "outputs": [],
   "source": [
    "def get_all():\n",
    "    base = pd.read_excel(r'/home/gustavo/Documentos/ListedOff/data/Base.xlsx', engine='openpyxl')\n",
    "    return base"
   ]
  },
  {
   "cell_type": "code",
   "execution_count": 33,
   "metadata": {},
   "outputs": [],
   "source": [
    "def handling_base(base):\n",
    "    base['Instrument'] = base['Ticker'].apply(lambda x: \" \".join(x.split()[:-1]))\n",
    "    base['Instrument'] = [t[:-1] for t in base['Instrument']]\n",
    "    base = x.groupby(['YellowKey','Instrument']).first().reset_index()\n",
    "    base = base[['YellowKey', 'Instrument', 'Maturity Label', 'Style', 'Maturity', 'Underlying']]\n",
    "    base.to_csv(r'/home/gustavo/Documentos/ListedOff/data/Base_aux.csv', index=False)\n",
    "\n",
    "def read_base_aux():\n",
    "    base = pd.read_csv(r'/home/gustavo/Documentos/ListedOff/data/Base_aux.csv')\n",
    "    return base"
   ]
  },
  {
   "cell_type": "code",
   "execution_count": 5,
   "metadata": {},
   "outputs": [],
   "source": [
    "def tickers_to_booking():\n",
    "    tickers = pd.read_excel(r'/home/gustavo/Documentos/ListedOff/data/Tickers.xlsx', header=None, engine='openpyxl')\n",
    "    tickers = tickers.rename(columns={0:'Ticker_Full'})\n",
    "    return tickers"
   ]
  },
  {
   "cell_type": "code",
   "execution_count": 8,
   "metadata": {},
   "outputs": [],
   "source": [
    "def get_ticker_yellow_key():\n",
    "    df = tickers_to_booking()\n",
    "    df['Ticker'] = df['Ticker_Full'].apply(lambda x: \" \".join(x.split()[:-1]))\n",
    "    df['YellowKey'] = [y.split()[-1] for y in df['Ticker_Full']]\n",
    "    df['Instrument'] = df['Ticker'].apply(lambda x: \" \".join(x.split()[:-1]))\n",
    "    df['Instrument'] = [t[:-1] for t in df['Instrument']]\n",
    "    return df"
   ]
  },
  {
   "cell_type": "code",
   "execution_count": 26,
   "metadata": {},
   "outputs": [],
   "source": [
    "def check_ticker():\n",
    "    base = get_all()\n",
    "    tickers = get_ticker_yellow_key()\n",
    "    base_aux = read_base_aux()\n",
    "    tickers['New'] = ''\n",
    "    msg = []\n",
    "    \n",
    "    for t,i,j in zip(tickers.Ticker, tickers.Instrument, tickers.index):\n",
    "        if base.Ticker.str.contains(t).any():\n",
    "            tickers.drop(tickers[tickers['Ticker'] == t].index, inplace=True)\n",
    "            msg.append(\"Ticker \" + t + \" já consta na base\")\n",
    "            tickers['New'][j] = False\n",
    "        elif base_aux.Instrument.str.contains(i).any():\n",
    "            tickers['New'][j] = False\n",
    "            pass            \n",
    "        else:\n",
    "            msg.append(\"O ticker \" + t + \" é novo\")\n",
    "            tickers['New'][j] = True\n",
    "    \n",
    "    return msg, tickers      "
   ]
  },
  {
   "cell_type": "code",
   "execution_count": null,
   "metadata": {},
   "outputs": [],
   "source": [
    "def tickers_to_upload():\n",
    "    msg, tickers = check_ticker()\n",
    "    \n",
    "    if not tickers:\n",
    "        return \"Não há tickers para cadastrar\"\n",
    "    \n",
    "    \n",
    "    "
   ]
  },
  {
   "cell_type": "code",
   "execution_count": null,
   "metadata": {},
   "outputs": [],
   "source": [
    "def construct_dataframe(base_aux, instrument, yellow_key, ticker):\n",
    "    df = pd.DataFrame()\n",
    "    df['Ticker'] = ''\n",
    "    if base_aux.Instrument.str.contains(instrument):\n",
    "        df = base_aux.loc[base_aux['Instrument'] == instrument]\n",
    "        if df.YellowKey.str.contains(yellow_key):\n",
    "             df['Ticker'] = ticker\n",
    "    return df\n",
    "    \n",
    "    "
   ]
  },
  {
   "cell_type": "code",
   "execution_count": 46,
   "metadata": {},
   "outputs": [
    {
     "data": {
      "text/plain": [
       "['Call', 'Put', 'Call']"
      ]
     },
     "execution_count": 46,
     "metadata": {},
     "output_type": "execute_result"
    }
   ],
   "source": [
    "msg,tickers = check_ticker()\n",
    "strike = [t.split()[-1]for t in tickers.Ticker]\n",
    "payout =  list(tickers['Ticker'].apply(lambda x: \" \".join(x.split()[:-1])))\n",
    "payout = [p[-1] for p in payout]\n",
    "payout = [\"Call\" if p == \"C\" else \"Put\" for p in payout]\n",
    "payout"
   ]
  },
  {
   "cell_type": "code",
   "execution_count": 37,
   "metadata": {},
   "outputs": [
    {
     "data": {
      "text/html": [
       "<div>\n",
       "<style scoped>\n",
       "    .dataframe tbody tr th:only-of-type {\n",
       "        vertical-align: middle;\n",
       "    }\n",
       "\n",
       "    .dataframe tbody tr th {\n",
       "        vertical-align: top;\n",
       "    }\n",
       "\n",
       "    .dataframe thead th {\n",
       "        text-align: right;\n",
       "    }\n",
       "</style>\n",
       "<table border=\"1\" class=\"dataframe\">\n",
       "  <thead>\n",
       "    <tr style=\"text-align: right;\">\n",
       "      <th></th>\n",
       "      <th>YellowKey</th>\n",
       "      <th>Instrument</th>\n",
       "      <th>Maturity Label</th>\n",
       "      <th>Style</th>\n",
       "      <th>Maturity</th>\n",
       "      <th>Underlying</th>\n",
       "    </tr>\n",
       "  </thead>\n",
       "  <tbody>\n",
       "    <tr>\n",
       "      <th>0</th>\n",
       "      <td>Comdty</td>\n",
       "      <td>SCH1</td>\n",
       "      <td>H1 2605</td>\n",
       "      <td>A</td>\n",
       "      <td>2021-05-26</td>\n",
       "      <td>SCH1</td>\n",
       "    </tr>\n",
       "    <tr>\n",
       "      <th>1</th>\n",
       "      <td>Index</td>\n",
       "      <td>S J1</td>\n",
       "      <td>J1 2607</td>\n",
       "      <td>A</td>\n",
       "      <td>2021-07-26</td>\n",
       "      <td>S M1</td>\n",
       "    </tr>\n",
       "  </tbody>\n",
       "</table>\n",
       "</div>"
      ],
      "text/plain": [
       "  YellowKey Instrument Maturity Label Style    Maturity Underlying\n",
       "0    Comdty       SCH1        H1 2605     A  2021-05-26       SCH1\n",
       "1     Index       S J1        J1 2607     A  2021-07-26       S M1"
      ]
     },
     "execution_count": 37,
     "metadata": {},
     "output_type": "execute_result"
    }
   ],
   "source": [
    "read_base_aux()"
   ]
  },
  {
   "cell_type": "code",
   "execution_count": 28,
   "metadata": {},
   "outputs": [
    {
     "name": "stdout",
     "output_type": "stream",
     "text": [
      "Ticker SCH1C 3000 já consta na base\n",
      "O ticker SCJ1C 3000 é novo\n"
     ]
    },
    {
     "data": {
      "text/html": [
       "<div>\n",
       "<style scoped>\n",
       "    .dataframe tbody tr th:only-of-type {\n",
       "        vertical-align: middle;\n",
       "    }\n",
       "\n",
       "    .dataframe tbody tr th {\n",
       "        vertical-align: top;\n",
       "    }\n",
       "\n",
       "    .dataframe thead th {\n",
       "        text-align: right;\n",
       "    }\n",
       "</style>\n",
       "<table border=\"1\" class=\"dataframe\">\n",
       "  <thead>\n",
       "    <tr style=\"text-align: right;\">\n",
       "      <th></th>\n",
       "      <th>Ticker_Full</th>\n",
       "      <th>Ticker</th>\n",
       "      <th>YellowKey</th>\n",
       "      <th>Instrument</th>\n",
       "      <th>New</th>\n",
       "    </tr>\n",
       "  </thead>\n",
       "  <tbody>\n",
       "    <tr>\n",
       "      <th>0</th>\n",
       "      <td>S J1C 3000 Index</td>\n",
       "      <td>S J1C 3000</td>\n",
       "      <td>Index</td>\n",
       "      <td>S J1</td>\n",
       "      <td>False</td>\n",
       "    </tr>\n",
       "    <tr>\n",
       "      <th>1</th>\n",
       "      <td>SCH1P 3200 Comdty</td>\n",
       "      <td>SCH1P 3200</td>\n",
       "      <td>Comdty</td>\n",
       "      <td>SCH1</td>\n",
       "      <td>False</td>\n",
       "    </tr>\n",
       "    <tr>\n",
       "      <th>3</th>\n",
       "      <td>SCJ1C 3000 Comdty</td>\n",
       "      <td>SCJ1C 3000</td>\n",
       "      <td>Comdty</td>\n",
       "      <td>SCJ1</td>\n",
       "      <td>True</td>\n",
       "    </tr>\n",
       "  </tbody>\n",
       "</table>\n",
       "</div>"
      ],
      "text/plain": [
       "         Ticker_Full      Ticker YellowKey Instrument    New\n",
       "0   S J1C 3000 Index  S J1C 3000     Index       S J1  False\n",
       "1  SCH1P 3200 Comdty  SCH1P 3200    Comdty       SCH1  False\n",
       "3  SCJ1C 3000 Comdty  SCJ1C 3000    Comdty       SCJ1   True"
      ]
     },
     "execution_count": 28,
     "metadata": {},
     "output_type": "execute_result"
    }
   ],
   "source": [
    "x,y = check_ticker()\n",
    "for i in x:\n",
    "    print(i)\n",
    "y"
   ]
  }
 ],
 "metadata": {
  "kernelspec": {
   "display_name": "Python 3",
   "language": "python",
   "name": "python3"
  },
  "language_info": {
   "codemirror_mode": {
    "name": "ipython",
    "version": 3
   },
   "file_extension": ".py",
   "mimetype": "text/x-python",
   "name": "python",
   "nbconvert_exporter": "python",
   "pygments_lexer": "ipython3",
   "version": "3.6.9"
  }
 },
 "nbformat": 4,
 "nbformat_minor": 2
}
